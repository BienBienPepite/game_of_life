import numpy as np
import matplotlib.pyplot as plt
import matplotlib.colors
import matplotlib.animation as ani
from IPython.display import HTML

TABLE_CENTER_SIDE_LENGTH = 20;
NUMBER_OF_BLACK_BOXES    = 15;
NUMBER_OF_GAME_TURNS     = 50;
TABLE_SIDE_LENGTH   = 50 #in case an element is at the border of the table center

TABLE_CENTER_START = (TABLE_SIDE_LENGTH - TABLE_CENTER_SIDE_LENGTH) // 2
TABLE_CENTER_END = TABLE_CENTER_START + TABLE_CENTER_SIDE_LENGTH

turn = 0

rng = np.random.default_rng()


fig = plt.figure()
ax = plt.axes(xlim = (TABLE_CENTER_START, TABLE_CENTER_END), ylim = (TABLE_CENTER_START, TABLE_CENTER_END))


table_center = np.zeros([TABLE_CENTER_SIDE_LENGTH, TABLE_CENTER_SIDE_LENGTH])
table_center_index = np.transpose(np.where(table_center == 0))
table_center_index_random = rng.choice(TABLE_CENTER_SIDE_LENGTH**2, size = NUMBER_OF_BLACK_BOXES, replace = False)
black_boxes_index = table_center_index[table_center_index_random]
row,column = black_boxes_index[:,0], black_boxes_index[:,1]
table_center[row,column] = table_center[row,column] + 1
table = np.zeros([TABLE_SIDE_LENGTH, TABLE_SIDE_LENGTH])
table[TABLE_CENTER_START:TABLE_CENTER_END, TABLE_CENTER_START:TABLE_CENTER_END] = table_center

im = plt.imshow(table, interpolation = 'none')
im.set_data(table)

frames = [table]

while turn < NUMBER_OF_GAME_TURNS:

    table_neighbour = np.zeros([TABLE_SIDE_LENGTH, TABLE_SIDE_LENGTH])

    for i in [-1, 0, 1]:
        for j in [-1, 0, 1]:
            if (i != 0 or j != 0):
                roll_table = np.roll(table, i, axis = 0)
                roll_table = np.roll(roll_table, j, axis = 1)
                table_neighbour += roll_table

    next_table_boolean = np.logical_or(table_neighbour == 3, np.logical_and(table == 1, table_neighbour == 2))

    next_table = np.zeros([TABLE_SIDE_LENGTH, TABLE_SIDE_LENGTH])
    next_table += next_table_boolean
    
    table = next_table
    
    frames.append(table)
    
    turn += 1
    
    
def animate(frame):
    im.set_data(frame)
    return [im]


anim = ani.FuncAnimation(fig, animate, frames = frames, blit = True)

plt.show()
